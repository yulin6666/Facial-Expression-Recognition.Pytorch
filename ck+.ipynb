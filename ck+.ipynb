{
 "cells": [
  {
   "cell_type": "code",
   "execution_count": 1,
   "metadata": {},
   "outputs": [
    {
     "name": "stdout",
     "output_type": "stream",
     "text": [
      "(981, 48, 48)\n",
      "(981,)\n",
      "Save data finish!!!\n"
     ]
    }
   ],
   "source": [
    "!python preprocess_CK+.py"
   ]
  },
  {
   "cell_type": "code",
   "execution_count": 2,
   "metadata": {},
   "outputs": [
    {
     "name": "stdout",
     "output_type": "stream",
     "text": [
      "==> Preparing data..\r\n",
      "Traceback (most recent call last):\r\n",
      "  File \"mainpro_CK+.py\", line 57, in <module>\r\n",
      "    trainset = CK(split = 'Training', fold = opt.fold, transform=transform_train)\r\n",
      "  File \"/storage/Facial-Expression-Recognition.Pytorch/CK.py\", line 36, in __init__\r\n",
      "    for j in xrange(len(test_number)):\r\n",
      "NameError: name 'xrange' is not defined\r\n"
     ]
    }
   ],
   "source": [
    "!python mainpro_CK+.py"
   ]
  },
  {
   "cell_type": "code",
   "execution_count": null,
   "metadata": {},
   "outputs": [],
   "source": []
  }
 ],
 "metadata": {
  "kernelspec": {
   "display_name": "Python 3",
   "language": "python",
   "name": "python3"
  },
  "language_info": {
   "codemirror_mode": {
    "name": "ipython",
    "version": 3
   },
   "file_extension": ".py",
   "mimetype": "text/x-python",
   "name": "python",
   "nbconvert_exporter": "python",
   "pygments_lexer": "ipython3",
   "version": "3.6.8"
  }
 },
 "nbformat": 4,
 "nbformat_minor": 2
}
